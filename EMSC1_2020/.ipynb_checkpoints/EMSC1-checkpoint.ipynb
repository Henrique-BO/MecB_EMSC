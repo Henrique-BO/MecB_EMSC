{
 "cells": [
  {
   "cell_type": "markdown",
   "metadata": {
    "pycharm": {
     "name": "#%% md\n"
    }
   },
   "source": [
    "# Exercício de Modalagem e Simulação Computacional 1\n",
    "\n",
    "Esse exercício consiste na análise de um sistema massa/mola/amortecedor com um grau de liberdade\n",
    "através de integração numérica de sua EDO, variando-se as condições iniciais.\n",
    "\n",
    "## Análise física do sistema\n",
    "\n",
    "![](./Massa_mola_amortecedor.png)\n",
    "\n",
    "O sistema, mostrado na imagem acima, apresenta uma mola, um amortecedor e uma força externa, sendo o atrito e a resistência do ar desprezados.\n",
    "Devido ao vínculo com o chão e à ausência de forças externas na vertical, o bloco não se movimenta nesta direção.\n",
    "\n",
    "Portanto, só há um grau de liberdade: na direção x, na qual as forças atuantes são as seguintes:\n",
    "\n",
    "\\begin{align}\n",
    "&\\mathbf{F} = F(t)\\mathbf{\\hat{i}} \\\\\n",
    "&\\mathbf{F_{mola}} = -kx\\mathbf{\\hat{i}} \\\\\n",
    "&\\mathbf{F_{amort}} = -c\\dot{x}\\mathbf{\\hat{i}}\n",
    "\\end{align}\n",
    "\n",
    "O que nos dá a resultante\n",
    "\n",
    "$$\\mathbf{R} = \\mathbf{F + F_{mola} + F_{amort}}$$\n",
    "\n",
    "Pela 2a Lei de Newton, temos:\n",
    "\n",
    "$$\\mathbf{R} = m\\mathbf{\\ddot{x}}$$\n",
    "\n",
    "Como só temos movimento em x, $\\mathbf{\\ddot{x}} = \\ddot{x}\\mathbf{\\hat{i}}$, e escrevemos\n",
    "\n",
    "\\begin{align}\n",
    "F(t) -  kx - c\\dot{x} &= m\\ddot{x} \\\\\n",
    "\\ddot{x} + \\frac{c}{m}\\dot{x} + \\frac{k}{m}x &= F(t)\n",
    "\\end{align}\n",
    "\n",
    "Essa equação é uma EDO linear, não-homogênea e de segunda ordem. Através do estudo dos movimentos ondulatórios,\n",
    "sabemos que isso é a equação de um oscilador amortecido e forçado. A solução analítica dessa equação\n",
    "corresponde à soma de uma solução particular (**estacionária**) com outra solução para a EDO homogêna correspondente (**transiente**).\n",
    "\n",
    "$$x(t) = x_{hom}(t) + x_{est}(t)$$\n",
    "\n",
    "### Solução homogênea\n",
    "\n",
    "![](./oscilacoes_amortecidas.png)\n",
    "\n",
    "A solução homogênea corresponde a um oscilador amortecido, que se divide em 3 casos: subcrítico, crítico, e supercrítico.\n",
    "Essa divisão depende dos valores de $\\gamma=\\frac{c}{m}$ (o *coeficiente de amortecimento*) e de $\\omega_0=\\sqrt{\\frac{k}{m}}$\n",
    "(a *frequência natural da oscilação*).\n",
    "\n",
    "- **Caso subcrítico $(\\frac{\\gamma}{2} < \\omega_0)$**\n",
    "\n",
    "A massa realiza um movimento oscilatório periódico de amplitude decrescente. A solução é\n",
    "\n",
    "$$x_{hom}(t) = Ae^{-\\frac{\\gamma}{2}t}\\cos(\\omega t + \\phi)$$\n",
    "\n",
    "Onde $A$ e $\\phi$ dependem das condições iniciais, e $\\omega = \\sqrt{\\omega_0^2 - \\frac{\\gamma^2}{4}}$\n",
    "\n",
    "- **Caso crítico $(\\frac{\\gamma}{2} = \\omega_0)$**\n",
    "\n",
    "A massa rápidamente retorna à posição inicial sem oscilar, parando no ponto de equilíbrio em tempo infinito.\n",
    "\n",
    "$$x_{hom}(t) = ae^{-\\frac{\\gamma}{2}t} + bte^{-\\frac{\\gamma}{2}t}$$\n",
    "\n",
    "Onde $a$ e $b$ dependem das condições iniciais.\n",
    "\n",
    "- **Caso supercrítico $(\\frac{\\gamma}{2} > \\omega_0)$**\n",
    "\n",
    "A massa retorna à posição inicial sem oscilar, mas mais lentamente do que no caso crítico.\n",
    "\n",
    "$$x_{hom}(t) = ae^{-(\\frac{\\gamma}{2} - \\beta)t} + be^{-(\\frac{\\gamma}{2} + \\beta)t}$$\n",
    "\n",
    "Onde $a$ e $b$ dependem das condições iniciais, e $\\beta=\\sqrt{\\frac{\\gamma^2}{4} - \\omega_0^2}$\n",
    "\n",
    "### Solução estacionária\n",
    "\n",
    "Dividimos nos possíveis casos para a força externa: nula, constante mas diferente de zero, e periódica.\n",
    "\n",
    "- $F(t) = 0$\n",
    "\n",
    "A EDO passa a ser homogênea, e a solução geral é a própria solução homogênea\n",
    "\n",
    "- $F(t) = F$, com $F=cte$\n",
    "\n",
    "$$x_{est}(t) = \\frac{F}{k}$$\n",
    "\n",
    "- $F(t) = F_0\\cos(\\omega t)$\n",
    "\n",
    "$$x_{est}(t) = A(\\omega)\\cos[\\omega t + \\phi(\\omega)]$$\n",
    "\n",
    "Onde\n",
    "\n",
    "$$A(\\omega) = \\frac{F_0}{m\\sqrt{(\\omega_0^2 - \\omega^2)^2 + \\gamma^2\\omega^2}}$$\n",
    "$$\\phi(\\omega) = -\\arctan\\left(\\frac{\\gamma\\,\\omega}{\\omega_0^2 - \\omega^2}\\right)$$\n",
    "\n",
    "## Solução numérica\n",
    "\n",
    "Para encontrar soluções numéricas, precisamos de um modelo adequado. Para isso, utilizaremos o vetor de estados $\\{y\\}$, definido como:\n",
    "\n",
    "$$\\{y\\} = \\begin{pmatrix} x \\\\ \\dot{x} \\end{pmatrix} \\implies \\{\\dot{y}\\} = \\begin{pmatrix} \\dot{x} \\\\ \\ddot{x} \\end{pmatrix}$$\n",
    "\n",
    "O que nos dá\n",
    "\n",
    "$$\\{\\dot{y}\\} = \\begin{pmatrix} \\dot{x} \\\\\n",
    "                                -\\frac{k}{m}x - \\frac{c}{m}\\dot{x} + \\frac{F(t)}{m}\n",
    "                \\end{pmatrix} = \\begin{pmatrix} 0 & 1 \\\\ -\\frac{k}{m} & -\\frac{c}{m} \\end{pmatrix} \\begin{pmatrix} x \\\\ \\dot{x} \\end{pmatrix} + \\begin{pmatrix} 0 \\\\ \\frac{F(t)}{m} \\end{pmatrix}$$\n",
    "                \n",
    "Em Python, isso nos dá:"
   ]
  },
  {
   "cell_type": "code",
   "execution_count": 1,
   "metadata": {
    "pycharm": {
     "name": "#%%\n"
    }
   },
   "outputs": [],
   "source": [
    "\n",
    "\n",
    "# EDO: retorna a derivada do vetor de estados dy/dt em funcao do estado atual y e do tempo t\n",
    "# Note que F e' uma funcao, e c a constante do amortecedor\n",
    "def massa_mola_amort(y, t, F, c):\n",
    "    x, x_dot = y # position and velocity\n",
    "    force = F(t)\n",
    "    dydt = [v, -k/m*x -c/m*x_dot + force/m]\n",
    "    return dydt"
   ]
  },
  {
   "cell_type": "markdown",
   "metadata": {},
   "source": [
    "Também precisamos de uma função para desenhar os gráficos necessários para a análise"
   ]
  },
  {
   "cell_type": "code",
   "execution_count": 2,
   "metadata": {},
   "outputs": [
    {
     "ename": "ModuleNotFoundError",
     "evalue": "No module named 'matplotlib'",
     "output_type": "error",
     "traceback": [
      "\u001b[0;31m---------------------------------------------------------------------------\u001b[0m",
      "\u001b[0;31mModuleNotFoundError\u001b[0m                       Traceback (most recent call last)",
      "\u001b[0;32m<ipython-input-2-092c5be2b582>\u001b[0m in \u001b[0;36m<module>\u001b[0;34m\u001b[0m\n\u001b[0;32m----> 1\u001b[0;31m \u001b[0;32mimport\u001b[0m \u001b[0mmatplotlib\u001b[0m\u001b[0;34m.\u001b[0m\u001b[0mpyplot\u001b[0m \u001b[0;32mas\u001b[0m \u001b[0mplt\u001b[0m\u001b[0;34m\u001b[0m\u001b[0;34m\u001b[0m\u001b[0m\n\u001b[0m\u001b[1;32m      2\u001b[0m \u001b[0;34m\u001b[0m\u001b[0m\n\u001b[1;32m      3\u001b[0m \u001b[0;32mdef\u001b[0m \u001b[0mdraw_plots\u001b[0m\u001b[0;34m(\u001b[0m\u001b[0msol\u001b[0m\u001b[0;34m,\u001b[0m \u001b[0mt\u001b[0m\u001b[0;34m,\u001b[0m \u001b[0mF\u001b[0m\u001b[0;34m,\u001b[0m \u001b[0mtitle\u001b[0m\u001b[0;34m)\u001b[0m\u001b[0;34m:\u001b[0m\u001b[0;34m\u001b[0m\u001b[0;34m\u001b[0m\u001b[0m\n\u001b[1;32m      4\u001b[0m     \u001b[0;31m# x(t) * t\u001b[0m\u001b[0;34m\u001b[0m\u001b[0;34m\u001b[0m\u001b[0;34m\u001b[0m\u001b[0m\n\u001b[1;32m      5\u001b[0m     \u001b[0mplt\u001b[0m\u001b[0;34m.\u001b[0m\u001b[0msubplot\u001b[0m\u001b[0;34m(\u001b[0m\u001b[0;36m2\u001b[0m\u001b[0;34m,\u001b[0m \u001b[0;36m2\u001b[0m\u001b[0;34m,\u001b[0m \u001b[0;36m1\u001b[0m\u001b[0;34m)\u001b[0m\u001b[0;34m\u001b[0m\u001b[0;34m\u001b[0m\u001b[0m\n",
      "\u001b[0;31mModuleNotFoundError\u001b[0m: No module named 'matplotlib'"
     ]
    }
   ],
   "source": [
    "import matplotlib.pyplot as plt\n",
    "\n",
    "def draw_plots(sol, t, F, title):\n",
    "    # x(t) * t\n",
    "    plt.subplot(2, 2, 1)\n",
    "    plt.plot(t, sol[:, 0], 'b')\n",
    "    plt.xlabel('t (s)')\n",
    "    plt.ylabel('x (m)')\n",
    "    plt.grid()\n",
    "\n",
    "    # v(t) * t\n",
    "    plt.subplot(2, 2, 2)\n",
    "    plt.plot(t, sol[:, 1], 'g')\n",
    "    plt.xlabel('t (s)')\n",
    "    plt.ylabel('v (m/s)')\n",
    "    plt.grid()\n",
    "\n",
    "    # x(t) * v(t)\n",
    "    plt.subplot(2, 2, 3)\n",
    "    plt.plot(sol[:, 1], sol[:, 0], 'r')\n",
    "    plt.xlabel('v (m/s)')\n",
    "    plt.ylabel('x (m)')\n",
    "    plt.grid()\n",
    "\n",
    "    # F(t) * t\n",
    "    plt.subplot(2, 2, 4)\n",
    "    plt.plot(t, [F(t0) for t0 in t], 'y')\n",
    "    plt.xlabel('t (s)')\n",
    "    plt.ylabel('F (N)')\n",
    "    plt.grid()\n",
    "\n",
    "    plt.suptitle(title)\n",
    "    plt.show()"
   ]
  },
  {
   "cell_type": "markdown",
   "metadata": {},
   "source": [
    "Os casos que serão analisados em seguida possuem variação nas condições iniciais $x(0)$ e $\\dot{x}(0)$, na força externa $F(t)$, no período considerado $\\Delta t$ e na constante do amortecedor $c$. Definimos as constantes do sistema, assim como uma função para a força externa nula:"
   ]
  },
  {
   "cell_type": "code",
   "execution_count": null,
   "metadata": {},
   "outputs": [],
   "source": [
    "# Bibliotecas/funcoes necessarias\n",
    "import numpy as np\n",
    "from scipy.integrate import odeint\n",
    "\n",
    "# Constantes do problema\n",
    "m = 10.0\n",
    "k = 3553.0\n",
    "c = 37.7\n",
    "g = 9.81\n",
    "\n",
    "# F(t) = 0.0\n",
    "def F_zero(t):\n",
    "    return 0"
   ]
  },
  {
   "cell_type": "markdown",
   "metadata": {},
   "source": [
    "### Caso A:\n",
    "\\begin{align}\n",
    "    &x(0) = 0.1 \\\\\n",
    "    &\\dot{x}(0) = 0.0 \\\\\n",
    "    &F(t) = 0.0 \\\\\n",
    "    &c = 37.7 \\\\\n",
    "    &\\Delta t = 3\n",
    "\\end{align}"
   ]
  },
  {
   "cell_type": "code",
   "execution_count": null,
   "metadata": {},
   "outputs": [],
   "source": [
    "# Condicoes iniciais\n",
    "t = np.linspace(0, 3, 100)\n",
    "x0 = 0.10\n",
    "x_dot0 = 0.0\n",
    "F = F_zero\n",
    "# Resolx_dote a EDO\n",
    "solA = odeint(massa_mola_amort, [x0, x_dot0], t, args=(F, c))\n",
    "# Graficos\n",
    "draw_plots(solA, t, F, \"Caso A\")"
   ]
  },
  {
   "cell_type": "markdown",
   "metadata": {},
   "source": [
    "### Caso B:\n",
    "\\begin{align}\n",
    "    &x(0) = 0.0 \\\\\n",
    "    &\\dot{x}(0) = 1.0 \\\\\n",
    "    &F(t) = 0.0 \\\\\n",
    "    &c = 37.7 \\\\\n",
    "    &\\Delta t = 3\n",
    "\\end{align}"
   ]
  },
  {
   "cell_type": "code",
   "execution_count": null,
   "metadata": {},
   "outputs": [],
   "source": [
    "# Condicoes iniciais\n",
    "t = np.linspace(0, 3, 100)\n",
    "x0 = 0.0\n",
    "x_dot0 = 1.0\n",
    "F = F_zero\n",
    "# Resolve a EDO\n",
    "solB = odeint(massa_mola_amort, [x0, x_dot0], t, args=(F, c))\n",
    "# Graficos\n",
    "draw_plots(solB, t, F, \"Caso B\")"
   ]
  },
  {
   "cell_type": "markdown",
   "metadata": {},
   "source": [
    "### Caso C:\n",
    "\\begin{align}\n",
    "    &x(0) = 0.1 \\\\\n",
    "    &\\dot{x}(0) = 1.0 \\\\\n",
    "    &F(t) = 0.0 \\\\\n",
    "    &c = 377 \\\\\n",
    "    &\\Delta t = 3\n",
    "\\end{align}"
   ]
  },
  {
   "cell_type": "code",
   "execution_count": null,
   "metadata": {},
   "outputs": [],
   "source": [
    "# Condicoes iniciais\n",
    "t = np.linspace(0, 3, 100)\n",
    "x0 = 0.10\n",
    "x_dot0 = 1.0\n",
    "F = F_zero\n",
    "c = 377\n",
    "# Resolve a EDO\n",
    "solC = odeint(massa_mola_amort, [x0, x_dot0], t, args=(F, c))\n",
    "# Graficos\n",
    "draw_plots(solC, t, F, \"Caso C\")"
   ]
  },
  {
   "cell_type": "markdown",
   "metadata": {},
   "source": [
    "### Caso D:\n",
    "\\begin{align}\n",
    "    &x(0) = 0.0 \\\\\n",
    "    &\\dot{x}(0) = 0.0 \\\\\n",
    "    &F(t) = 1000\\sin\\left(\\pi t + \\frac{\\pi}{2}\\right) \\\\\n",
    "    &c = 37.7 \\\\\n",
    "    &\\Delta t = 5\n",
    "\\end{align}"
   ]
  },
  {
   "cell_type": "code",
   "execution_count": null,
   "metadata": {},
   "outputs": [],
   "source": [
    "def F_D(t):\n",
    "    F0 = 1000\n",
    "    omega = np.pi\n",
    "    theta = np.pi/2\n",
    "    return F0*np.sin(omega*t + theta)\n",
    "# Condicoes iniciais\n",
    "t = np.linspace(0, 5, 100)\n",
    "x0 = 0.0\n",
    "x_dot0 = 0.0\n",
    "F = F_D\n",
    "c = 37.7\n",
    "# Resolve a EDO\n",
    "solD = odeint(massa_mola_amort, [x0, x_dot0], t, args=(F, c))\n",
    "# Graficos\n",
    "draw_plots(solD, t, F, \"Caso D\")"
   ]
  },
  {
   "cell_type": "markdown",
   "metadata": {},
   "source": [
    "### Caso E:\n",
    "\\begin{align}\n",
    "    &x(0) = 0.0 \\\\\n",
    "    &\\dot{x}(0) = 0.0 \\\\\n",
    "    &F(t) =\n",
    "      \\begin{cases}\n",
    "        0       & \\quad \\text{se } t < 0.5 \\\\\n",
    "        1000  & \\quad \\text{se } t >= 0.5\n",
    "      \\end{cases}\n",
    "    \\\\\n",
    "    &c = 37.7 \\\\\n",
    "    &\\Delta t = 5\n",
    "\\end{align}"
   ]
  },
  {
   "cell_type": "code",
   "execution_count": null,
   "metadata": {},
   "outputs": [],
   "source": [
    "def F_E(t):\n",
    "    return 1000 if t >= 0.5 else 0\n",
    "# Condicoes iniciais\n",
    "t = np.linspace(0, 5, 100)\n",
    "x0 = 0.0\n",
    "x_dot0 = 0.0\n",
    "F = F_E\n",
    "c = 37.7\n",
    "# Resolve a EDO\n",
    "solE = odeint(massa_mola_amort, [x0, x_dot0], t, args=(F, c))\n",
    "# Graficos\n",
    "draw_plots(solE, t, F, \"Caso E\")"
   ]
  }
 ],
 "metadata": {
  "kernelspec": {
   "display_name": "Python 3",
   "language": "python",
   "name": "python3"
  },
  "language_info": {
   "codemirror_mode": {
    "name": "ipython",
    "version": 3
   },
   "file_extension": ".py",
   "mimetype": "text/x-python",
   "name": "python",
   "nbconvert_exporter": "python",
   "pygments_lexer": "ipython3",
   "version": "3.6.9"
  }
 },
 "nbformat": 4,
 "nbformat_minor": 1
}
